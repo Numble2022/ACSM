{
 "cells": [
  {
   "cell_type": "code",
   "execution_count": 3,
   "id": "526683d2",
   "metadata": {},
   "outputs": [],
   "source": [
    "import pandas as pd\n",
    "from bs4 import BeautifulSoup as bs\n",
    "from selenium import webdriver\n",
    "from selenium.webdriver.common.by import By\n",
    "from selenium.webdriver.chrome.service import Service\n",
    "from webdriver_manager.chrome import ChromeDriverManager\n",
    "from selenium.webdriver.support.ui import WebDriverWait\n",
    "from selenium.webdriver.support import expected_conditions as EC\n",
    "from selenium.webdriver.common.keys import Keys\n",
    "import time\n",
    "import warnings\n",
    "warnings.filterwarnings('ignore')"
   ]
  },
  {
   "cell_type": "code",
   "execution_count": null,
   "id": "44b45c9c",
   "metadata": {},
   "outputs": [],
   "source": [
    "# driver = webdriver.Chrome(service=Service(ChromeDriverManager().install()))\n",
    "# driver.implicitly_wait(5)\n",
    "# s_data = []\n",
    "\n",
    "# driver.get('https://sg.sbiz.or.kr/godo/stat/upso.sg')\n",
    "# driver.find_element(By.CSS_SELECTOR,'a#twoTypePopup').click()\n",
    "# time.sleep(1)\n",
    "# si = bizinfo_df['address'][0][:2]\n",
    "# driver.find_element(By.XPATH, f\"//label[text()='{si}']\").click()   #(By.XPATH, \"//label[text()='\"+si+\"']\").click()"
   ]
  },
  {
   "cell_type": "code",
   "execution_count": 55,
   "id": "77623910",
   "metadata": {},
   "outputs": [
    {
     "ename": "ElementClickInterceptedException",
     "evalue": "Message: element click intercepted: Element <div data-skin=\"selectbox-group\">...</div> is not clickable at point (553, 340). Other element would receive the click: <div style=\"position:fixed; left:50%; top:50%; width:30em; height:30em;-webkit-transform:translate(-50%, -50%);transform:translate(-50%, -50%);\">...</div>\n  (Session info: chrome=106.0.5249.119)\nStacktrace:\nBacktrace:\n\tOrdinal0 [0x002F1ED3+2236115]\n\tOrdinal0 [0x002892F1+1807089]\n\tOrdinal0 [0x001966FD+812797]\n\tOrdinal0 [0x001CBEC7+1031879]\n\tOrdinal0 [0x001C9E6C+1023596]\n\tOrdinal0 [0x001C7A5B+1014363]\n\tOrdinal0 [0x001C66E7+1009383]\n\tOrdinal0 [0x001BC416+967702]\n\tOrdinal0 [0x001E1A8C+1120908]\n\tOrdinal0 [0x001BBD84+966020]\n\tOrdinal0 [0x001E1CA4+1121444]\n\tOrdinal0 [0x001F59E2+1202658]\n\tOrdinal0 [0x001E18A6+1120422]\n\tOrdinal0 [0x001BA73D+960317]\n\tOrdinal0 [0x001BB71F+964383]\n\tGetHandleVerifier [0x0059E7E2+2743074]\n\tGetHandleVerifier [0x005908D4+2685972]\n\tGetHandleVerifier [0x00382BAA+532202]\n\tGetHandleVerifier [0x00381990+527568]\n\tOrdinal0 [0x0029080C+1837068]\n\tOrdinal0 [0x00294CD8+1854680]\n\tOrdinal0 [0x00294DC5+1854917]\n\tOrdinal0 [0x0029ED64+1895780]\n\tBaseThreadInitThunk [0x766A6739+25]\n\tRtlGetFullPathName_UEx [0x778C8FD2+1218]\n\tRtlGetFullPathName_UEx [0x778C8F9D+1165]\n\t(No symbol) [0x00000000]\n",
     "output_type": "error",
     "traceback": [
      "\u001b[1;31m---------------------------------------------------------------------------\u001b[0m",
      "\u001b[1;31mElementClickInterceptedException\u001b[0m          Traceback (most recent call last)",
      "Cell \u001b[1;32mIn [55], line 11\u001b[0m\n\u001b[0;32m      9\u001b[0m driver\u001b[38;5;241m.\u001b[39mimplicitly_wait(\u001b[38;5;241m10\u001b[39m)\n\u001b[0;32m     10\u001b[0m time\u001b[38;5;241m.\u001b[39msleep(\u001b[38;5;241m0.5\u001b[39m)\n\u001b[1;32m---> 11\u001b[0m \u001b[43mdriver\u001b[49m\u001b[38;5;241;43m.\u001b[39;49m\u001b[43mfind_element\u001b[49m\u001b[43m(\u001b[49m\u001b[43mBy\u001b[49m\u001b[38;5;241;43m.\u001b[39;49m\u001b[43mXPATH\u001b[49m\u001b[43m,\u001b[49m\u001b[38;5;124;43m'\u001b[39;49m\u001b[38;5;124;43m//*[@id=\u001b[39;49m\u001b[38;5;124;43m\"\u001b[39;49m\u001b[38;5;124;43mpage4-1\u001b[39;49m\u001b[38;5;124;43m\"\u001b[39;49m\u001b[38;5;124;43m]/div[1]/div/div[1]/ul/li[1]/div\u001b[39;49m\u001b[38;5;124;43m'\u001b[39;49m\u001b[43m)\u001b[49m\u001b[38;5;241;43m.\u001b[39;49m\u001b[43mclick\u001b[49m\u001b[43m(\u001b[49m\u001b[43m)\u001b[49m\n\u001b[0;32m     12\u001b[0m driver\u001b[38;5;241m.\u001b[39mimplicitly_wait(\u001b[38;5;241m10\u001b[39m)\n\u001b[0;32m     13\u001b[0m time\u001b[38;5;241m.\u001b[39msleep(\u001b[38;5;241m0.5\u001b[39m)\n",
      "File \u001b[1;32m~\\AppData\\Local\\Programs\\Python\\Python310\\lib\\site-packages\\selenium\\webdriver\\remote\\webelement.py:88\u001b[0m, in \u001b[0;36mWebElement.click\u001b[1;34m(self)\u001b[0m\n\u001b[0;32m     86\u001b[0m \u001b[38;5;28;01mdef\u001b[39;00m \u001b[38;5;21mclick\u001b[39m(\u001b[38;5;28mself\u001b[39m) \u001b[38;5;241m-\u001b[39m\u001b[38;5;241m>\u001b[39m \u001b[38;5;28;01mNone\u001b[39;00m:\n\u001b[0;32m     87\u001b[0m     \u001b[38;5;124;03m\"\"\"Clicks the element.\"\"\"\u001b[39;00m\n\u001b[1;32m---> 88\u001b[0m     \u001b[38;5;28;43mself\u001b[39;49m\u001b[38;5;241;43m.\u001b[39;49m\u001b[43m_execute\u001b[49m\u001b[43m(\u001b[49m\u001b[43mCommand\u001b[49m\u001b[38;5;241;43m.\u001b[39;49m\u001b[43mCLICK_ELEMENT\u001b[49m\u001b[43m)\u001b[49m\n",
      "File \u001b[1;32m~\\AppData\\Local\\Programs\\Python\\Python310\\lib\\site-packages\\selenium\\webdriver\\remote\\webelement.py:396\u001b[0m, in \u001b[0;36mWebElement._execute\u001b[1;34m(self, command, params)\u001b[0m\n\u001b[0;32m    394\u001b[0m     params \u001b[38;5;241m=\u001b[39m {}\n\u001b[0;32m    395\u001b[0m params[\u001b[38;5;124m'\u001b[39m\u001b[38;5;124mid\u001b[39m\u001b[38;5;124m'\u001b[39m] \u001b[38;5;241m=\u001b[39m \u001b[38;5;28mself\u001b[39m\u001b[38;5;241m.\u001b[39m_id\n\u001b[1;32m--> 396\u001b[0m \u001b[38;5;28;01mreturn\u001b[39;00m \u001b[38;5;28;43mself\u001b[39;49m\u001b[38;5;241;43m.\u001b[39;49m\u001b[43m_parent\u001b[49m\u001b[38;5;241;43m.\u001b[39;49m\u001b[43mexecute\u001b[49m\u001b[43m(\u001b[49m\u001b[43mcommand\u001b[49m\u001b[43m,\u001b[49m\u001b[43m \u001b[49m\u001b[43mparams\u001b[49m\u001b[43m)\u001b[49m\n",
      "File \u001b[1;32m~\\AppData\\Local\\Programs\\Python\\Python310\\lib\\site-packages\\selenium\\webdriver\\remote\\webdriver.py:428\u001b[0m, in \u001b[0;36mWebDriver.execute\u001b[1;34m(self, driver_command, params)\u001b[0m\n\u001b[0;32m    426\u001b[0m response \u001b[38;5;241m=\u001b[39m \u001b[38;5;28mself\u001b[39m\u001b[38;5;241m.\u001b[39mcommand_executor\u001b[38;5;241m.\u001b[39mexecute(driver_command, params)\n\u001b[0;32m    427\u001b[0m \u001b[38;5;28;01mif\u001b[39;00m response:\n\u001b[1;32m--> 428\u001b[0m     \u001b[38;5;28;43mself\u001b[39;49m\u001b[38;5;241;43m.\u001b[39;49m\u001b[43merror_handler\u001b[49m\u001b[38;5;241;43m.\u001b[39;49m\u001b[43mcheck_response\u001b[49m\u001b[43m(\u001b[49m\u001b[43mresponse\u001b[49m\u001b[43m)\u001b[49m\n\u001b[0;32m    429\u001b[0m     response[\u001b[38;5;124m'\u001b[39m\u001b[38;5;124mvalue\u001b[39m\u001b[38;5;124m'\u001b[39m] \u001b[38;5;241m=\u001b[39m \u001b[38;5;28mself\u001b[39m\u001b[38;5;241m.\u001b[39m_unwrap_value(\n\u001b[0;32m    430\u001b[0m         response\u001b[38;5;241m.\u001b[39mget(\u001b[38;5;124m'\u001b[39m\u001b[38;5;124mvalue\u001b[39m\u001b[38;5;124m'\u001b[39m, \u001b[38;5;28;01mNone\u001b[39;00m))\n\u001b[0;32m    431\u001b[0m     \u001b[38;5;28;01mreturn\u001b[39;00m response\n",
      "File \u001b[1;32m~\\AppData\\Local\\Programs\\Python\\Python310\\lib\\site-packages\\selenium\\webdriver\\remote\\errorhandler.py:243\u001b[0m, in \u001b[0;36mErrorHandler.check_response\u001b[1;34m(self, response)\u001b[0m\n\u001b[0;32m    241\u001b[0m         alert_text \u001b[38;5;241m=\u001b[39m value[\u001b[38;5;124m'\u001b[39m\u001b[38;5;124malert\u001b[39m\u001b[38;5;124m'\u001b[39m]\u001b[38;5;241m.\u001b[39mget(\u001b[38;5;124m'\u001b[39m\u001b[38;5;124mtext\u001b[39m\u001b[38;5;124m'\u001b[39m)\n\u001b[0;32m    242\u001b[0m     \u001b[38;5;28;01mraise\u001b[39;00m exception_class(message, screen, stacktrace, alert_text)  \u001b[38;5;66;03m# type: ignore[call-arg]  # mypy is not smart enough here\u001b[39;00m\n\u001b[1;32m--> 243\u001b[0m \u001b[38;5;28;01mraise\u001b[39;00m exception_class(message, screen, stacktrace)\n",
      "\u001b[1;31mElementClickInterceptedException\u001b[0m: Message: element click intercepted: Element <div data-skin=\"selectbox-group\">...</div> is not clickable at point (553, 340). Other element would receive the click: <div style=\"position:fixed; left:50%; top:50%; width:30em; height:30em;-webkit-transform:translate(-50%, -50%);transform:translate(-50%, -50%);\">...</div>\n  (Session info: chrome=106.0.5249.119)\nStacktrace:\nBacktrace:\n\tOrdinal0 [0x002F1ED3+2236115]\n\tOrdinal0 [0x002892F1+1807089]\n\tOrdinal0 [0x001966FD+812797]\n\tOrdinal0 [0x001CBEC7+1031879]\n\tOrdinal0 [0x001C9E6C+1023596]\n\tOrdinal0 [0x001C7A5B+1014363]\n\tOrdinal0 [0x001C66E7+1009383]\n\tOrdinal0 [0x001BC416+967702]\n\tOrdinal0 [0x001E1A8C+1120908]\n\tOrdinal0 [0x001BBD84+966020]\n\tOrdinal0 [0x001E1CA4+1121444]\n\tOrdinal0 [0x001F59E2+1202658]\n\tOrdinal0 [0x001E18A6+1120422]\n\tOrdinal0 [0x001BA73D+960317]\n\tOrdinal0 [0x001BB71F+964383]\n\tGetHandleVerifier [0x0059E7E2+2743074]\n\tGetHandleVerifier [0x005908D4+2685972]\n\tGetHandleVerifier [0x00382BAA+532202]\n\tGetHandleVerifier [0x00381990+527568]\n\tOrdinal0 [0x0029080C+1837068]\n\tOrdinal0 [0x00294CD8+1854680]\n\tOrdinal0 [0x00294DC5+1854917]\n\tOrdinal0 [0x0029ED64+1895780]\n\tBaseThreadInitThunk [0x766A6739+25]\n\tRtlGetFullPathName_UEx [0x778C8FD2+1218]\n\tRtlGetFullPathName_UEx [0x778C8F9D+1165]\n\t(No symbol) [0x00000000]\n"
     ]
    }
   ],
   "source": [
    "driver = webdriver.Chrome(service=Service(ChromeDriverManager().install()))\n",
    "driver.implicitly_wait(10)\n",
    "time.sleep(0.5)\n",
    "s_data, 행정구역, 행정구역, 업종, 주간인구수, 밀집도, 밀집도_중위값, 밀집정도, 동종근로자_임금_수준미만, 동종근로자_임금_수준미만_척도 = [],[],[],[],[],[],[],[],[],[] \n",
    "\n",
    "driver.get('https://sg.sbiz.or.kr/godo/stat/updens.sg')\n",
    "for region in range(1,18):\n",
    "    for industry in range(2,23):\n",
    "        driver.implicitly_wait(10)\n",
    "        time.sleep(0.5)\n",
    "        driver.find_element(By.XPATH,'//*[@id=\"page4-1\"]/div[1]/div/div[1]/ul/li[1]/div').click()\n",
    "        driver.implicitly_wait(10)\n",
    "        time.sleep(0.5)\n",
    "        for i in range(1, region+1):\n",
    "            driver.find_element(By.XPATH,f'//*[@id=\"megaUl\"]/li[{i+1}]/label').click()\n",
    "            driver.implicitly_wait(10)\n",
    "            time.sleep(0.5)\n",
    "            if i % 5 == 0 :\n",
    "                driver.find_element(By.TAG_NAME, 'html').send_keys(Keys.ARROW_DOWN)\n",
    "        driver.implicitly_wait(10)\n",
    "        time.sleep(0.5)\n",
    "        driver.find_element(By.XPATH, '//*[@id=\"ctyUl\"]/li[1]/label').click()\n",
    "        driver.implicitly_wait(10)\n",
    "        time.sleep(0.5)\n",
    "        driver.find_element(By.XPATH, '//*[@id=\"popupbox\"]/div/div[2]/div/div[2]/a[2]').click()  \n",
    "        driver.implicitly_wait(10)\n",
    "        time.sleep(0.5)\n",
    "        driver.find_element(By.XPATH,'//*[@id=\"page4-1\"]/div[1]/div/div[1]/ul/li[2]/div').click()\n",
    "        driver.implicitly_wait(10)\n",
    "        time.sleep(0.5)\n",
    "        for nm in range(1, industry+1):\n",
    "            driver.implicitly_wait(10)\n",
    "            time.sleep(0.5)\n",
    "            driver.find_element(By.XPATH,f'//*[@id=\"upjong1Ul\"]/li[{nm}]/label').click()\n",
    "            driver.implicitly_wait(10)\n",
    "            time.sleep(0.5)\n",
    "            if nm % 3 == 0 :\n",
    "                driver.find_element(By.TAG_NAME, 'html').send_keys(Keys.ARROW_DOWN)\n",
    "            if nm % 15 == 0 :\n",
    "                driver.find_element(By.TAG_NAME, 'html').send_keys(Keys.ARROW_DOWN)\n",
    "        driver.implicitly_wait(10)\n",
    "        time.sleep(0.5)\n",
    "        driver.find_element(By.XPATH, '//*[@id=\"upjong2Ul\"]/li[1]/label').click()\n",
    "        driver.implicitly_wait(10)\n",
    "        time.sleep(0.5)\n",
    "        driver.find_element(By.XPATH, '//*[@id=\"popupbox\"]/div/div[2]/div/div[2]/a[2]').click()\n",
    "        driver.implicitly_wait(10)\n",
    "        time.sleep(0.5)\n",
    "        driver.find_element(By.XPATH, '//*[@id=\"page4-1\"]/div[1]/div/div[2]/a').click()\n",
    "        driver.implicitly_wait(10)\n",
    "        time.sleep(0.5)\n",
    "        page_source = driver.page_source\n",
    "        soup = bs(page_source, 'lxml')\n",
    "        try:\n",
    "            soup.select('#updensTable tr')[1]\n",
    "        except: pass\n",
    "        else:\n",
    "            table = soup.select('#updensTable td')\n",
    "            for i in range(len(table)//9):\n",
    "                행정구역 = [table[9*i].text]\n",
    "                업종 = [table[9*i+1].text]\n",
    "                주간인구수 = [table[9*i+2].text]\n",
    "                밀집도 = [table[9*i+3].text]\n",
    "                밀집도_중위값 = [table[9*i+4].text]\n",
    "                밀집정도 = [table[9*i+5].text]\n",
    "                동종근로자_임금_수준미만 = [table[9*i+6].text]\n",
    "                동종근로자_임금_수준미만_척도 = [table[9*i+7].text]\n",
    "                s_data.append([행정구역, 업종, 주간인구수, 밀집도, 밀집도_중위값, 밀집정도, 동종근로자_임금_수준미만, 동종근로자_임금_수준미만_척도])"
   ]
  },
  {
   "cell_type": "code",
   "execution_count": null,
   "id": "3aee4134",
   "metadata": {},
   "outputs": [],
   "source": [
    "sbiz_df = pd.DataFrame(s_data, columns=['행정구역', '업종', '주간인구수', '밀집도', '밀집도_중위값', '밀집정도', '동종근로자_임금_수준미만', '동종근로자_임금_수준미만_척도'])\n",
    "sbiz_df.to_csv('sbiz_df.csv') "
   ]
  },
  {
   "cell_type": "code",
   "execution_count": null,
   "id": "b5247b96",
   "metadata": {},
   "outputs": [],
   "source": []
  },
  {
   "cell_type": "code",
   "execution_count": null,
   "id": "ce6ab7a4",
   "metadata": {},
   "outputs": [],
   "source": []
  },
  {
   "cell_type": "code",
   "execution_count": null,
   "id": "30330432",
   "metadata": {},
   "outputs": [],
   "source": []
  },
  {
   "cell_type": "code",
   "execution_count": null,
   "id": "86a2c028",
   "metadata": {},
   "outputs": [],
   "source": []
  }
 ],
 "metadata": {
  "kernelspec": {
   "display_name": "Python 3 (ipykernel)",
   "language": "python",
   "name": "python3"
  },
  "language_info": {
   "codemirror_mode": {
    "name": "ipython",
    "version": 3
   },
   "file_extension": ".py",
   "mimetype": "text/x-python",
   "name": "python",
   "nbconvert_exporter": "python",
   "pygments_lexer": "ipython3",
   "version": "3.10.7"
  }
 },
 "nbformat": 4,
 "nbformat_minor": 5
}
