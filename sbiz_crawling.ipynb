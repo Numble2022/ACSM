{
 "cells": [
  {
   "cell_type": "code",
   "execution_count": null,
   "id": "526683d2",
   "metadata": {},
   "outputs": [],
   "source": [
    "import pandas as pd\n",
    "from bs4 import BeautifulSoup as bs\n",
    "from selenium import webdriver\n",
    "from selenium.webdriver.common.by import By\n",
    "from selenium.webdriver.chrome.service import Service\n",
    "from webdriver_manager.chrome import ChromeDriverManager\n",
    "from selenium.webdriver.support.ui import WebDriverWait\n",
    "from selenium.webdriver.support import expected_conditions as EC\n",
    "from selenium.webdriver.common.keys import Keys\n",
    "import time\n",
    "import warnings\n",
    "warnings.filterwarnings('ignore')"
   ]
  },
  {
   "cell_type": "code",
   "execution_count": null,
   "id": "44b45c9c",
   "metadata": {},
   "outputs": [],
   "source": [
    "# driver = webdriver.Chrome(service=Service(ChromeDriverManager().install()))\n",
    "# driver.implicitly_wait(5)\n",
    "# s_data = []\n",
    "\n",
    "# driver.get('https://sg.sbiz.or.kr/godo/stat/upso.sg')\n",
    "# driver.find_element(By.CSS_SELECTOR,'a#twoTypePopup').click()\n",
    "# time.sleep(1)\n",
    "# si = bizinfo_df['address'][0][:2]\n",
    "# driver.find_element(By.XPATH, f\"//label[text()='{si}']\").click()   #(By.XPATH, \"//label[text()='\"+si+\"']\").click()"
   ]
  },
  {
   "cell_type": "code",
   "execution_count": null,
   "id": "aa2c0a82",
   "metadata": {},
   "outputs": [],
   "source": [
    "driver = webdriver.Chrome(service=Service(ChromeDriverManager().install()))\n",
    "driver.implicitly_wait(3)\n",
    "s_data, 행정구역, 행정구역, 업종, 주간인구수, 밀집도, 밀집도_중위값, 밀집정도, 동종근로자_임금_수준미만, 동종근로자_임금_수준미만_척도 = [],[],[],[],[],[],[],[],[],[] \n",
    "\n",
    "driver.get('https://sg.sbiz.or.kr/godo/stat/updens.sg')\n",
    "for region in range(1,18):\n",
    "    for industry in range(2,23):\n",
    "        driver.find_element(By.XPATH,'//*[@id=\"page4-1\"]/div[1]/div/div[1]/ul/li[1]/div').click()\n",
    "        time.sleep(2)\n",
    "        driver.execute_script(\"window.scrollTo(0,100)\")\n",
    "        driver.find_element(By.XPATH, f\"//label[@for='select_11_{region}']\").click()   \n",
    "        time.sleep(2)\n",
    "        driver.find_element(By.XPATH, '//*[@id=\"ctyUl\"]/li[1]/label').click()\n",
    "        driver.find_element(By.XPATH, '//*[@id=\"popupbox\"]/div/div[2]/div/div[2]/a[2]').click()  \n",
    "        driver.find_element(By.XPATH,'//*[@id=\"page4-1\"]/div[1]/div/div[1]/ul/li[2]/div').click()\n",
    "        time.sleep(2)\n",
    "        driver.execute_script(\"window.scrollTo(0,200)\")\n",
    "        driver.find_element(By.XPATH, f'//*[@id=\"upjong1Ul\"]/li[{industry}]/label').click()\n",
    "        time.sleep(2)\n",
    "        driver.find_element(By.XPATH, '//*[@id=\"upjong2Ul\"]/li[1]/label').click()\n",
    "        time.sleep(2)\n",
    "        driver.find_element(By.XPATH, '//*[@id=\"popupbox\"]/div/div[2]/div/div[2]/a[2]').click()\n",
    "        driver.find_element(By.XPATH, '//*[@id=\"page4-1\"]/div[1]/div/div[2]/a').click()\n",
    "        time.sleep(2)\n",
    "        page_source = driver.page_source\n",
    "        soup = bs(page_source, 'lxml')\n",
    "        try:\n",
    "            soup.select('#updensTable tr')[1]\n",
    "        except: pass\n",
    "        else:\n",
    "            table = soup.select('#updensTable td')\n",
    "            for i in range(len(table)//9):\n",
    "                행정구역 = [table[9*i].text]\n",
    "                업종 = [table[9*i+1].text]\n",
    "                주간인구수 = [table[9*i+2].text]\n",
    "                밀집도 = [table[9*i+3].text]\n",
    "                밀집도_중위값 = [table[9*i+4].text]\n",
    "                밀집정도 = [table[9*i+5].text]\n",
    "                동종근로자_임금_수준미만 = [table[9*i+6].text]\n",
    "                동종근로자_임금_수준미만_척도 = [table[9*i+7].text]\n",
    "                s_data.append([행정구역, 업종, 주간인구수, 밀집도, 밀집도_중위값, 밀집정도, 동종근로자_임금_수준미만, 동종근로자_임금_수준미만_척도])"
   ]
  },
  {
   "cell_type": "code",
   "execution_count": null,
   "id": "c5f62e95",
   "metadata": {},
   "outputs": [],
   "source": [
    "sbiz_df = pd.DataFrame({'행정구역': s_data[i][0], '업종': s_data[i][1], '주간인구수': s_data[i][2], \n",
    "                           '밀집도' : s_data[i][3], '밀집도_중위값' : s_data[i][4], '밀집정도' : s_data[i][5], \n",
    "                           '동종근로자_임금_수준미만' : s_data[i][6], '동종근로자_임금_수준미만_척도': s_data[i][7]} for i in range(len(행정구역)))\n",
    "sbiz_df.to_csv('sbiz_df.csv') "
   ]
  },
  {
   "cell_type": "code",
   "execution_count": null,
   "id": "b5247b96",
   "metadata": {},
   "outputs": [],
   "source": []
  },
  {
   "cell_type": "code",
   "execution_count": null,
   "id": "ce6ab7a4",
   "metadata": {},
   "outputs": [],
   "source": []
  },
  {
   "cell_type": "code",
   "execution_count": null,
   "id": "30330432",
   "metadata": {},
   "outputs": [],
   "source": []
  },
  {
   "cell_type": "code",
   "execution_count": null,
   "id": "86a2c028",
   "metadata": {},
   "outputs": [],
   "source": []
  }
 ],
 "metadata": {
  "kernelspec": {
   "display_name": "Python 3 (ipykernel)",
   "language": "python",
   "name": "python3"
  },
  "language_info": {
   "codemirror_mode": {
    "name": "ipython",
    "version": 3
   },
   "file_extension": ".py",
   "mimetype": "text/x-python",
   "name": "python",
   "nbconvert_exporter": "python",
   "pygments_lexer": "ipython3",
   "version": "3.10.7"
  }
 },
 "nbformat": 4,
 "nbformat_minor": 5
}
